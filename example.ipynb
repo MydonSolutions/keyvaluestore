{
 "cells": [
  {
   "cell_type": "markdown",
   "metadata": {},
   "source": [
    "# Key Value Store\n",
    "\n",
    "Values are commonly stored with a key that is used to access the value from the store. This package defines a class that makes it simple to expose keyed-values as properties."
   ]
  },
  {
   "cell_type": "markdown",
   "metadata": {},
   "source": [
    "## Example\n",
    "\n",
    "Define an implementation of the KeyValueStore. This one merely wraps the standard `dict`."
   ]
  },
  {
   "cell_type": "code",
   "execution_count": 1,
   "metadata": {},
   "outputs": [],
   "source": [
    "from keyvaluestore import KeyValueStore\n",
    "\n",
    "class Store(KeyValueStore):\n",
    "    values: dict\n",
    "\n",
    "    def __init__(self, key_values: dict = None):\n",
    "        self.values = {}\n",
    "        if key_values is not None:\n",
    "            self.values.update(key_values)\n",
    "\n",
    "    def get(self, keys: list or str = None, fallback = None):\n",
    "        \"\"\"\n",
    "        This getter enables multiple keys to be retrieved at a time.\n",
    "        \"\"\"\n",
    "        if keys is None:\n",
    "            keys = list(self.values.keys())\n",
    "\n",
    "        if isinstance(keys, list):\n",
    "            return {\n",
    "                key: self.values.get(key, fallback)\n",
    "                for key in keys\n",
    "            }\n",
    "        else:\n",
    "            return self.values.get(keys, fallback)\n",
    "\n",
    "    def set(self, keys: str or list, values):\n",
    "        \"\"\"\n",
    "        This getter enables multiple keys to be retrieved at a time.\n",
    "        \"\"\"\n",
    "        if isinstance(keys, list):\n",
    "            for index, key in enumerate(keys):\n",
    "                self.values[key] = values[index]\n",
    "        else:\n",
    "            self.values[keys] = values"
   ]
  },
  {
   "cell_type": "markdown",
   "metadata": {},
   "source": [
    "Add properties to the implemented class `Store` with various behaviours."
   ]
  },
  {
   "cell_type": "code",
   "execution_count": 2,
   "metadata": {},
   "outputs": [],
   "source": [
    "from keyvaluestore import KeyValueProperty\n",
    "\n",
    "KeyValueStore.add_properties(\n",
    "    Store,\n",
    "    [\n",
    "        KeyValueProperty(\n",
    "            name=\"string\",\n",
    "            key=\"string\",\n",
    "            valueGetter=None, # invoke the default getter\n",
    "            valueSetter=None, # invoke the default setter\n",
    "            valueDocumentation=\"This value is keyed by 'string' and has the default getter/setter of the class.\"\n",
    "        ),\n",
    "        KeyValueProperty(\n",
    "            name=\"string_length\",\n",
    "            key=None, # No key provided as the value is computed, not stored\n",
    "            valueGetter=lambda self, fallback=None: len(self.get(\"string\", fallback)), # self is an instance of the class\n",
    "            valueSetter=False, # indicate that the property cannot be set\n",
    "            valueDocumentation=\"This value is keyed by 'string_length' and is a read-only, computed value.\"\n",
    "        ),\n",
    "        KeyValueProperty(\n",
    "            name=\"asterisks\",\n",
    "            key=\"asterisks\", # No key provided as the value is computed, not stored\n",
    "            valueGetter=None, # invoke the default getter\n",
    "            valueSetter=lambda self, count: self.set(\"asterisks\", \"*\"*int(count)), # self is an instance of the class\n",
    "            valueDocumentation=\"This value is keyed by 'asterisks' and has a bespoke .\"\n",
    "        ),\n",
    "    ]\n",
    ")"
   ]
  },
  {
   "cell_type": "markdown",
   "metadata": {},
   "source": [
    "Now excercise an instance of the `Store`."
   ]
  },
  {
   "cell_type": "code",
   "execution_count": 3,
   "metadata": {},
   "outputs": [
    {
     "data": {
      "text/plain": [
       "<__main__.Store at 0x238051866b0>"
      ]
     },
     "execution_count": 3,
     "metadata": {},
     "output_type": "execute_result"
    }
   ],
   "source": [
    "store = Store()\n",
    "store"
   ]
  },
  {
   "cell_type": "code",
   "execution_count": 4,
   "metadata": {},
   "outputs": [
    {
     "data": {
      "text/plain": [
       "True"
      ]
     },
     "execution_count": 4,
     "metadata": {},
     "output_type": "execute_result"
    }
   ],
   "source": [
    "# Get `asterisks` property before setting\n",
    "store.asterisks == None"
   ]
  },
  {
   "cell_type": "code",
   "execution_count": 5,
   "metadata": {},
   "outputs": [
    {
     "data": {
      "text/plain": [
       "'****'"
      ]
     },
     "execution_count": 5,
     "metadata": {},
     "output_type": "execute_result"
    }
   ],
   "source": [
    "store.asterisks = 4\n",
    "store.asterisks"
   ]
  },
  {
   "cell_type": "code",
   "execution_count": 6,
   "metadata": {},
   "outputs": [
    {
     "data": {
      "text/plain": [
       "'Mic-check: 1, 2, 3.'"
      ]
     },
     "execution_count": 6,
     "metadata": {},
     "output_type": "execute_result"
    }
   ],
   "source": [
    "# Set the `string` property\n",
    "store.string = \"Mic-check: 1, 2, 3.\"\n",
    "store.string"
   ]
  },
  {
   "cell_type": "code",
   "execution_count": 7,
   "metadata": {},
   "outputs": [
    {
     "data": {
      "text/plain": [
       "19"
      ]
     },
     "execution_count": 7,
     "metadata": {},
     "output_type": "execute_result"
    }
   ],
   "source": [
    "# Get the associated `string_length` property\n",
    "store.string_length"
   ]
  },
  {
   "cell_type": "code",
   "execution_count": 8,
   "metadata": {},
   "outputs": [
    {
     "data": {
      "text/plain": [
       "{'string': '**Applause**', 'asterisks': 8}"
      ]
     },
     "execution_count": 8,
     "metadata": {},
     "output_type": "execute_result"
    }
   ],
   "source": [
    "store.set([\"string\", \"asterisks\"], [\"**Applause**\", 8])\n",
    "store.get([\"string\", \"asterisks\"])"
   ]
  },
  {
   "cell_type": "code",
   "execution_count": 9,
   "metadata": {},
   "outputs": [
    {
     "data": {
      "text/plain": [
       "{'asterisks': 8, 'string': '**Applause**'}"
      ]
     },
     "execution_count": 9,
     "metadata": {},
     "output_type": "execute_result"
    }
   ],
   "source": [
    "store.get()"
   ]
  }
 ],
 "metadata": {
  "kernelspec": {
   "display_name": "Python 3",
   "language": "python",
   "name": "python3"
  },
  "language_info": {
   "codemirror_mode": {
    "name": "ipython",
    "version": 3
   },
   "file_extension": ".py",
   "mimetype": "text/x-python",
   "name": "python",
   "nbconvert_exporter": "python",
   "pygments_lexer": "ipython3",
   "version": "3.10.2"
  },
  "orig_nbformat": 4
 },
 "nbformat": 4,
 "nbformat_minor": 2
}
